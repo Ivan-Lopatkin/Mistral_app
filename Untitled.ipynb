{
 "cells": [
  {
   "cell_type": "code",
   "execution_count": 25,
   "id": "21604843-dcb7-4ec8-bae0-97b60e5f327b",
   "metadata": {},
   "outputs": [],
   "source": [
    "from llm_as_judge import LLMAsJudge\n",
    "from factory import get_parser\n",
    "from parsers.tg_channel import TelegramWebParser\n",
    "# from parser import LandingPageParser\n",
    "from moderation import CreativeGenerator\n",
    "\n",
    "from mistralai import Mistral"
   ]
  },
  {
   "cell_type": "code",
   "execution_count": 26,
   "id": "acedf03a-27e2-495c-9779-8ce25408fd47",
   "metadata": {},
   "outputs": [],
   "source": [
    "import re\n",
    "def load_stopwords(path='sensetive_words.txt') -> set[str]:\n",
    "    with open(path, 'r', encoding='utf-8') as f:\n",
    "        content = f.read()\n",
    "    words = [w.strip().lower() for w in content.split(',') if w.strip()]\n",
    "    return set(words)\n",
    "\n",
    "def compile_stopword_pattern(stopwords: set[str]) -> re.Pattern:\n",
    "    escaped = map(re.escape, stopwords)\n",
    "    pattern = re.compile(r'\\b(' + '|'.join(escaped) + r')\\b', re.IGNORECASE)\n",
    "    return pattern\n",
    "\n",
    "def contains_stopwords(text: str, pattern: re.Pattern) -> bool:\n",
    "    found = {match.group(0).lower() for match in pattern.finditer(text)}\n",
    "    return sorted(found)"
   ]
  },
  {
   "cell_type": "code",
   "execution_count": 27,
   "id": "11a1a56e-837e-45e8-9fe5-c0fc9de7a926",
   "metadata": {},
   "outputs": [
    {
     "data": {
      "text/plain": [
       "['дрочиться', 'снотворный']"
      ]
     },
     "execution_count": 27,
     "metadata": {},
     "output_type": "execute_result"
    }
   ],
   "source": [
    "stop_words = load_stopwords()\n",
    "pattern = compile_stopword_pattern(stop_words)\n",
    "contains_stopwords('дрочиться буду или ты снотворный, будешь', pattern)"
   ]
  },
  {
   "cell_type": "markdown",
   "id": "447c98ad-6c82-45fb-abc4-0ef0e44e19b0",
   "metadata": {},
   "source": [
    "Мы оказываем услуги лазерной эпиляции. Первая лазерная эпиляция с гарантией результата, курс 7 процедур, если темные волосы еще останутся, следующие 3 процедуры за наш счёт.\n",
    "Интервал между процедурами курса 2-3 месяца."
   ]
  },
  {
   "cell_type": "code",
   "execution_count": 28,
   "id": "795a56d6-077a-4f7f-b29a-d7946b661129",
   "metadata": {},
   "outputs": [
    {
     "data": {
      "text/plain": [
       "155"
      ]
     },
     "execution_count": 45,
     "metadata": {},
     "output_type": "execute_result"
    }
   ],
   "source": [
    "len('')"
   ]
  },
  {
   "cell_type": "code",
   "execution_count": 29,
   "id": "4cc980dc-b8bb-42b9-9700-ab2529838df7",
   "metadata": {},
   "outputs": [
    {
     "data": {
      "text/plain": [
       "<parsers.tg_channel.TelegramWebParser at 0x7f9fb9aa1ca0>"
      ]
     },
     "execution_count": 29,
     "metadata": {},
     "output_type": "execute_result"
    }
   ],
   "source": [
    "sample_url_401 = \"https://sokolov.ru/\" \n",
    "sample_url_403 = 'https://t.me/s/kvvins' #https://www.banki.ru/ #https://t.me/s/kvvins #https://t.me/ru_fancybot\n",
    "parser = get_parser(sample_url_403)\n",
    "parser"
   ]
  },
  {
   "cell_type": "code",
   "execution_count": 30,
   "id": "f9e1575e-9f0a-4cc7-9c74-b0ecde85b53a",
   "metadata": {},
   "outputs": [
    {
     "data": {
      "text/plain": [
       "159"
      ]
     },
     "execution_count": 30,
     "metadata": {},
     "output_type": "execute_result"
    }
   ],
   "source": [
    "len('Ваша кожа будет точно как у младенцев! Первая лазерная эпиляция с гарантией. Если волосы останутся, следующие 3 процедуры бесплатно. Подарите себе уверенность!')"
   ]
  },
  {
   "cell_type": "code",
   "execution_count": 31,
   "id": "3d4a9654-10c4-485b-83b9-70b9061e2b85",
   "metadata": {},
   "outputs": [
    {
     "name": "stderr",
     "output_type": "stream",
     "text": [
      "INFO:parsers.base:Страница успешно загружена: https://t.me/s/kvvins\n"
     ]
    }
   ],
   "source": [
    "parsed_data = parser.parse()"
   ]
  },
  {
   "cell_type": "code",
   "execution_count": 32,
   "id": "a9df7807-3e39-417c-9276-98fbd0d4ce4b",
   "metadata": {},
   "outputs": [],
   "source": [
    "api_key = 'Q4Hj5o5PSeo7WsZBcnT6EAzJPl9cLEEu' # мой: 'x2HtdihRnziqstzrsXjzjJpLfqfcua2H'\n",
    "model = 'mistral-large-latest' # 123b\n",
    "# model = 'mistral-small-latest' # 24b\n",
    "# model = 'open-mistral-7b' # 7b\n",
    "# model = 'ministral-8b-latest' # 8b\n",
    "client = Mistral(api_key=api_key)"
   ]
  },
  {
   "cell_type": "code",
   "execution_count": 35,
   "id": "ebdc3b1e-7f1e-44e8-9361-80ab19f51091",
   "metadata": {},
   "outputs": [
    {
     "name": "stderr",
     "output_type": "stream",
     "text": [
      "INFO:httpx:HTTP Request: POST https://api.mistral.ai/v1/chat/completions \"HTTP/1.1 200 OK\"\n",
      "INFO:llm_as_judge:Ключевые аспекты успешно получены от LLM.\n"
     ]
    }
   ],
   "source": [
    "llm_instance = LLMAsJudge(client=client, model=model, url=sample_url_403)\n",
    "key_aspects = llm_instance.extract_key_aspects(parsed_data=parsed_data)"
   ]
  },
  {
   "cell_type": "code",
   "execution_count": 36,
   "id": "f98da5db-4ccc-47a0-a5ab-ea1459367809",
   "metadata": {},
   "outputs": [
    {
     "data": {
      "text/plain": [
       "{'brand_name': 'Кvins клиника лазерной эпиляции@kvvins',\n",
       " 'themes': ['Здоровье и Фитнес', 'Медицина', 'Мода и красота'],\n",
       " 'prompt': 'Клиника Кvins предлагает лазерную эпиляцию с гарантией. 7 процедур, если волосы не уйдут, следующие 3 бесплатно. Запись через WhatsApp или Instagram.'}"
      ]
     },
     "execution_count": 36,
     "metadata": {},
     "output_type": "execute_result"
    }
   ],
   "source": [
    "key_aspects"
   ]
  },
  {
   "cell_type": "code",
   "execution_count": 37,
   "id": "7eee732f-8639-45af-9ec1-85250e4acdd2",
   "metadata": {},
   "outputs": [
    {
     "data": {
      "text/plain": [
       "561"
      ]
     },
     "execution_count": 37,
     "metadata": {},
     "output_type": "execute_result"
    }
   ],
   "source": [
    "12493 - 11932"
   ]
  },
  {
   "cell_type": "code",
   "execution_count": 38,
   "id": "22dbedd8-4a64-4b8a-8b15-9d01d9166aa3",
   "metadata": {},
   "outputs": [],
   "source": [
    "prompt = '''\n",
    "Мы оказываем услуги лазерной эпиляции. Первая лазерная эпиляция с гарантией результата, курс 7 процедур, если темные волосы еще останутся, следующие 3 процедуры за наш счёт. Интервал между процедурами курса 2-3 месяца.\n",
    "'''"
   ]
  },
  {
   "cell_type": "code",
   "execution_count": 39,
   "id": "b025a2d3-593e-4b4a-b89e-1120ae06b727",
   "metadata": {},
   "outputs": [
    {
     "name": "stderr",
     "output_type": "stream",
     "text": [
      "INFO:httpx:HTTP Request: POST https://api.mistral.ai/v1/chat/completions \"HTTP/1.1 429 Too Many Requests\"\n",
      "WARNING:moderation:429 received, retrying after 1s...\n",
      "INFO:httpx:HTTP Request: POST https://api.mistral.ai/v1/chat/completions \"HTTP/1.1 200 OK\"\n"
     ]
    },
    {
     "name": "stdout",
     "output_type": "stream",
     "text": [
      "```json\n",
      "{\n",
      "  \"Стиль 1\": {\n",
      "    \"headline\": \"Кvins клиника лазерной эпиляции@kvvins\",\n",
      "    \"ad_text\": \"Первая лазерная эпиляция с гарантией результата. Курс из 7 процедур, интервал 2-3 месяца. Если останутся темные волосы, следующие 3 процедуры бесплатно.\"\n",
      "  },\n",
      "  \"Стиль 2\": {\n",
      "    \"headline\": \"Кvins клиника лазерной эпиляции@kvvins\",\n",
      "    \"ad_text\": \"Забудьте о нежелательных волосах! Гарантированный результат после курса из 7 процедур. Если останутся темные волосы, следующие 3 процедуры за наш счет!\"\n",
      "  },\n",
      "  \"Стиль 3\": {\n",
      "    \"headline\": \"Кvins клиника лазерной эпиляции@kvvins\",\n",
      "    \"ad_text\": \"Гладкая кожа навсегда. Гарантия результата.\"\n",
      "  }\n",
      "}\n",
      "```\n",
      "Стиль 1 []\n",
      "Стиль 2 []\n",
      "Стиль 3 []\n"
     ]
    }
   ],
   "source": [
    "creative_gen = CreativeGenerator(client, model, sample_url_403)\n",
    "creatives = creative_gen.generate_creatives(prompt, key_aspects)"
   ]
  },
  {
   "cell_type": "code",
   "execution_count": 40,
   "id": "3cc14f9c-a608-4bf2-b74e-53c3abc87d8f",
   "metadata": {},
   "outputs": [
    {
     "data": {
      "text/plain": [
       "{'Стиль 1': {'headline': 'Кvins клиника лазерной эпиляции@kvvins',\n",
       "  'ad_text': 'Первая лазерная эпиляция с гарантией результата. Курс из 7 процедур, интервал 2-3 месяца. Если останутся темные волосы, следующие 3 процедуры бесплатно.'},\n",
       " 'Стиль 2': {'headline': 'Кvins клиника лазерной эпиляции@kvvins',\n",
       "  'ad_text': 'Забудьте о нежелательных волосах! Гарантированный результат после курса из 7 процедур. Если останутся темные волосы, следующие 3 процедуры за наш счет!'},\n",
       " 'Стиль 3': {'headline': 'Кvins клиника лазерной эпиляции@kvvins',\n",
       "  'ad_text': 'Гладкая кожа навсегда. Гарантия результата.'}}"
      ]
     },
     "execution_count": 40,
     "metadata": {},
     "output_type": "execute_result"
    }
   ],
   "source": [
    "creatives"
   ]
  },
  {
   "cell_type": "code",
   "execution_count": 41,
   "id": "9cbba56f-ce59-495e-b845-8c6d3338ac3f",
   "metadata": {},
   "outputs": [
    {
     "name": "stdout",
     "output_type": "stream",
     "text": [
      "152\n",
      "151\n",
      "43\n"
     ]
    }
   ],
   "source": [
    "for style, creative in creatives.items():\n",
    "    print(len(creative['ad_text']))"
   ]
  },
  {
   "cell_type": "code",
   "execution_count": 42,
   "id": "b6c20ad8-e232-42d5-9233-b3f5d97e62e2",
   "metadata": {},
   "outputs": [
    {
     "name": "stdout",
     "output_type": "stream",
     "text": [
      "38\n",
      "38\n",
      "38\n"
     ]
    }
   ],
   "source": [
    "for style, creative in creatives.items():\n",
    "    print(len(creative['headline']))"
   ]
  },
  {
   "cell_type": "code",
   "execution_count": 40,
   "id": "3df42a9e-e29d-4556-9775-95aeffb1f7f9",
   "metadata": {},
   "outputs": [
    {
     "data": {
      "text/plain": [
       "1479"
      ]
     },
     "execution_count": 40,
     "metadata": {},
     "output_type": "execute_result"
    }
   ],
   "source": [
    "618 + 200 + 100 + 561"
   ]
  },
  {
   "cell_type": "code",
   "execution_count": null,
   "id": "6cc58beb-9116-4a3e-a912-a9b4ccabfe5b",
   "metadata": {},
   "outputs": [],
   "source": []
  }
 ],
 "metadata": {
  "kernelspec": {
   "display_name": "Python 3 (ipykernel)",
   "language": "python",
   "name": "python3"
  },
  "language_info": {
   "codemirror_mode": {
    "name": "ipython",
    "version": 3
   },
   "file_extension": ".py",
   "mimetype": "text/x-python",
   "name": "python",
   "nbconvert_exporter": "python",
   "pygments_lexer": "ipython3",
   "version": "3.9.13"
  }
 },
 "nbformat": 4,
 "nbformat_minor": 5
}
